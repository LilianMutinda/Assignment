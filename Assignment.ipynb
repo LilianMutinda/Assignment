{
 "cells": [
  {
   "cell_type": "markdown",
   "id": "5913b22d-e59f-4aea-b28f-e1079dcdae52",
   "metadata": {},
   "source": [
    "### **Peer-graded Assignment**"
   ]
  },
  {
   "cell_type": "markdown",
   "id": "d874f111-5846-4cae-9497-cca63176a982",
   "metadata": {},
   "source": [
    "#### **Introduction**\n",
    "This is my final assignment, and it will be graded by my peers. \n",
    "\n"
   ]
  },
  {
   "cell_type": "markdown",
   "id": "30e2ace2-8051-4e91-9886-ef02743771ed",
   "metadata": {},
   "source": [
    "#### **Data science languages**\n",
    "R\n",
    "\n",
    "Python"
   ]
  },
  {
   "cell_type": "markdown",
   "id": "8b2d200c-575f-45a7-a8d5-c0b1d98a8d03",
   "metadata": {},
   "source": [
    "#### **Data science libraries**\n",
    "Numpy\n",
    "\n",
    "Pandas\n",
    "\n",
    "Matplotlib"
   ]
  },
  {
   "cell_type": "markdown",
   "id": "f892b69e-7664-4e23-aa8c-2c68b9aa90f7",
   "metadata": {},
   "source": [
    "#### **A table of Data Science tools**\n"
   ]
  },
  {
   "cell_type": "markdown",
   "id": "2df73f38-6d96-48f4-9c9b-b74be522e256",
   "metadata": {},
   "source": [
    "| Tools         | \n",
    "|---------------|\n",
    "| Pandas        | \n",
    "| NumPy         | \n",
    "| Scikit-learn  | \n",
    "| TensorFlow    | \n",
    "| Matplotlib    | \n",
    "| Seaborn       | \n"
   ]
  },
  {
   "cell_type": "markdown",
   "id": "847b6363-d6aa-4644-9c16-e69829d96114",
   "metadata": {},
   "source": [
    "#### **Arithmetic expression examples**\n",
    "Aggregation Functions:\n",
    "   - Sum: `sum(data)`\n",
    "   - Mean: `mean(data)`\n",
    "   - Median: `median(data)`\n",
    "   - Standard deviation: `std(data)`\n",
    "   - Variance: `var(data)`\n",
    "\n",
    "Basic Arithmetic Operations:\n",
    "   - Addition: `a + b`\n",
    "   - Subtraction: `a - b`\n",
    "   - Multiplication: `a * b`\n",
    "   - Division: `a / b`\n",
    "   - Exponentiation: `a ** b`"
   ]
  },
  {
   "cell_type": "code",
   "execution_count": 3,
   "id": "be5fd325-d1d9-4dfe-b0d7-08cec839f906",
   "metadata": {},
   "outputs": [
    {
     "name": "stdout",
     "output_type": "stream",
     "text": [
      "Multiplication Result is: 16\n",
      "Addition Result is: 10\n"
     ]
    }
   ],
   "source": [
    "# Multiply two numbers\n",
    "multiply = 2 * 8\n",
    "print(\"Multiplication Result is:\", multiply)\n",
    "\n",
    "# Add two numbers\n",
    "addition = 2 + 8\n",
    "print(\"Addition Result is:\", addition)\n"
   ]
  },
  {
   "cell_type": "code",
   "execution_count": 6,
   "id": "ae6b3ae8-daad-4a53-80f6-2c61b8b6e1af",
   "metadata": {},
   "outputs": [
    {
     "name": "stdout",
     "output_type": "stream",
     "text": [
      "360 Minutes\n",
      "6.0 Hours\n"
     ]
    }
   ],
   "source": [
    "minutes = 360\n",
    "\n",
    "# Convert minutes to hours\n",
    "hours = minutes / 60\n",
    "\n",
    "print(minutes, \"Minutes\")\n",
    "print(hours, \"Hours\")\n"
   ]
  },
  {
   "cell_type": "markdown",
   "id": "f6d5e82a-f2e6-440a-82db-41215d262101",
   "metadata": {},
   "source": [
    "#### **The Objectives are:**\n",
    "Create a markdown cell with the title of the notebook. (1 pt)\n",
    "\n",
    "Create a markdown cell for an introduction. (1 pt)\n",
    "\n",
    "Create a markdown cell to list data science languages. (3 pts)\n",
    "\n",
    "Create a markdown cell to list data science libraries. (3 pts)\n",
    "\n",
    "Create a markdown cell with a table of Data Science tools. (3 pts)\n",
    "\n",
    "Create a markdown cell introducing arithmetic expression examples. (1 pt)\n",
    "\n",
    "Create a code cell to multiply and add numbers. (2 pts)\n",
    "\n",
    "Create a code cell to convert minutes to hours.\n",
    "\n",
    "\n",
    "\n"
   ]
  },
  {
   "cell_type": "markdown",
   "id": "eb956005-a784-4b20-9f69-dc4c1cc0a810",
   "metadata": {},
   "source": [
    "**Author**\n",
    "\n",
    "Lilian Mutinda"
   ]
  }
 ],
 "metadata": {
  "kernelspec": {
   "display_name": "Python 3 (ipykernel)",
   "language": "python",
   "name": "python3"
  },
  "language_info": {
   "codemirror_mode": {
    "name": "ipython",
    "version": 3
   },
   "file_extension": ".py",
   "mimetype": "text/x-python",
   "name": "python",
   "nbconvert_exporter": "python",
   "pygments_lexer": "ipython3",
   "version": "3.11.6"
  }
 },
 "nbformat": 4,
 "nbformat_minor": 5
}
